{
 "cells": [
  {
   "cell_type": "code",
   "execution_count": 1,
   "metadata": {},
   "outputs": [
    {
     "name": "stderr",
     "output_type": "stream",
     "text": [
      "Using TensorFlow backend.\n"
     ]
    }
   ],
   "source": [
    "from fancyimpute import KNN,NuclearNormMinimization, SoftImpute, BiScaler\n",
    "from sklearn.experimental import enable_iterative_imputer\n",
    "from sklearn.impute import IterativeImputer\n",
    "#from fancyimpute import IterativeImputer\n",
    "import pandas as pd\n",
    "import numpy as np\n",
    "import matplotlib.pyplot as plt\n",
    "import os\n",
    "from sklearn import preprocessing\n",
    "import warnings\n",
    "warnings.filterwarnings('ignore')\n",
    "pd.set_option(\"display.max_rows\", 101)\n",
    "pd.set_option(\"display.max_columns\", 101)\n",
    "%matplotlib inline"
   ]
  },
  {
   "cell_type": "code",
   "execution_count": 2,
   "metadata": {},
   "outputs": [],
   "source": [
    "#使用カラムを絞る\n",
    "usecols=['Rooms', 'Type', 'Price', 'Method', 'SellerG',\n",
    "        'Distance', 'Bedroom2', 'Bathroom', 'Car',\n",
    "       'Landsize', 'BuildingArea', 'YearBuilt', 'Propertycount']"
   ]
  },
  {
   "cell_type": "code",
   "execution_count": 3,
   "metadata": {},
   "outputs": [],
   "source": [
    "df=pd.read_csv(\"melbourne-housing-market/Melbourne_housing_FULL.csv\",usecols=usecols)\n",
    "df=df[df[\"Price\"]==df[\"Price\"]] #目的変数がないものを除外"
   ]
  },
  {
   "cell_type": "code",
   "execution_count": 4,
   "metadata": {},
   "outputs": [
    {
     "data": {
      "text/plain": [
       "Rooms                0\n",
       "Type                 0\n",
       "Price                0\n",
       "Method               0\n",
       "SellerG              0\n",
       "Distance             1\n",
       "Bedroom2          6441\n",
       "Bathroom          6447\n",
       "Car               6824\n",
       "Landsize          9265\n",
       "BuildingArea     16591\n",
       "YearBuilt        15163\n",
       "Propertycount        3\n",
       "dtype: int64"
      ]
     },
     "execution_count": 4,
     "metadata": {},
     "output_type": "execute_result"
    }
   ],
   "source": [
    "df.isnull().sum()"
   ]
  },
  {
   "cell_type": "code",
   "execution_count": 5,
   "metadata": {},
   "outputs": [],
   "source": [
    "#カテゴリ値を数値変換\n",
    "le = preprocessing.LabelEncoder()\n",
    "df[[ 'Type', 'Method', 'SellerG']]=df[[ 'Type', 'Method', 'SellerG']].apply(le.fit_transform)\n",
    "df=df.dropna(subset=[\"Price\"])"
   ]
  },
  {
   "cell_type": "code",
   "execution_count": 6,
   "metadata": {},
   "outputs": [],
   "source": [
    "df_train=df.drop(\"Price\",axis=1)\n",
    "df_label=df[\"Price\"].values"
   ]
  },
  {
   "cell_type": "code",
   "execution_count": 7,
   "metadata": {
    "scrolled": true
   },
   "outputs": [],
   "source": [
    "import lightgbm as lgb\n",
    "from sklearn.model_selection import StratifiedShuffleSplit\n",
    "from sklearn.model_selection import StratifiedKFold\n",
    "from sklearn.model_selection import KFold\n",
    "import copy\n",
    "\n",
    "def run_model(df_train,df_label):\n",
    "    #params={}\n",
    "    params={\n",
    "        'objective': 'regression',\n",
    "        'random_state' : 1,\n",
    "        \"metric\": \"rmse\",\n",
    "        }\n",
    "\n",
    "    kfold = 5\n",
    "    score=0\n",
    "    #sss = StratifiedShuffleSplit(n_splits=kfold, test_size=0.2, random_state=94)\n",
    "    #sss = StratifiedKFold(n_splits=5, random_state=94)\n",
    "    kf = KFold(n_splits=kfold,shuffle=True,random_state=94)\n",
    "    \n",
    "    importance=0\n",
    "    for i, (train_index, test_index) in enumerate(kf.split(df_train, df_label)):\n",
    "        print('[Fold %d/%d]' % (i + 1, kfold))\n",
    "\n",
    "        X_train, X_valid = df_train.iloc[train_index,:], df_train.iloc[test_index,:]\n",
    "        y_train, y_valid = df_label[train_index], df_label[test_index]\n",
    "        dtrain = lgb.Dataset(X_train, label=y_train)\n",
    "        dvalid = lgb.Dataset(X_valid, label=y_valid)\n",
    "\n",
    "        bst = lgb.train(params, dtrain, num_boost_round=1000,valid_sets=[dtrain, dvalid],early_stopping_rounds=50,verbose_eval=100)\n",
    "        importance+= pd.DataFrame(bst.feature_importance(), index=df_train.columns, columns=['importance'])\n",
    "        score+=bst.best_score[\"valid_1\"]['rmse']\n",
    "    return importance,score/5"
   ]
  },
  {
   "cell_type": "code",
   "execution_count": 141,
   "metadata": {
    "scrolled": true
   },
   "outputs": [
    {
     "name": "stdout",
     "output_type": "stream",
     "text": [
      "[Fold 1/5]\n",
      "Training until validation scores don't improve for 50 rounds.\n",
      "[100]\ttraining's rmse: 263065\tvalid_1's rmse: 361421\n",
      "[200]\ttraining's rmse: 234052\tvalid_1's rmse: 352385\n",
      "[300]\ttraining's rmse: 216683\tvalid_1's rmse: 349947\n",
      "[400]\ttraining's rmse: 204275\tvalid_1's rmse: 349206\n",
      "Early stopping, best iteration is:\n",
      "[380]\ttraining's rmse: 206508\tvalid_1's rmse: 348965\n",
      "[Fold 2/5]\n",
      "Training until validation scores don't improve for 50 rounds.\n",
      "[100]\ttraining's rmse: 271639\tvalid_1's rmse: 320021\n",
      "[200]\ttraining's rmse: 242773\tvalid_1's rmse: 311486\n",
      "[300]\ttraining's rmse: 225266\tvalid_1's rmse: 308975\n",
      "[400]\ttraining's rmse: 212653\tvalid_1's rmse: 308360\n",
      "Early stopping, best iteration is:\n",
      "[353]\ttraining's rmse: 218298\tvalid_1's rmse: 308194\n",
      "[Fold 3/5]\n",
      "Training until validation scores don't improve for 50 rounds.\n",
      "[100]\ttraining's rmse: 275512\tvalid_1's rmse: 301153\n",
      "[200]\ttraining's rmse: 245402\tvalid_1's rmse: 292408\n",
      "[300]\ttraining's rmse: 227787\tvalid_1's rmse: 288409\n",
      "[400]\ttraining's rmse: 215307\tvalid_1's rmse: 286304\n",
      "[500]\ttraining's rmse: 204813\tvalid_1's rmse: 285297\n",
      "[600]\ttraining's rmse: 196249\tvalid_1's rmse: 285098\n",
      "Early stopping, best iteration is:\n",
      "[580]\ttraining's rmse: 197885\tvalid_1's rmse: 284985\n",
      "[Fold 4/5]\n",
      "Training until validation scores don't improve for 50 rounds.\n",
      "[100]\ttraining's rmse: 275388\tvalid_1's rmse: 302848\n",
      "[200]\ttraining's rmse: 245977\tvalid_1's rmse: 293662\n",
      "[300]\ttraining's rmse: 228227\tvalid_1's rmse: 290266\n",
      "Early stopping, best iteration is:\n",
      "[322]\ttraining's rmse: 225210\tvalid_1's rmse: 289562\n",
      "[Fold 5/5]\n",
      "Training until validation scores don't improve for 50 rounds.\n",
      "[100]\ttraining's rmse: 279709\tvalid_1's rmse: 287189\n",
      "[200]\ttraining's rmse: 249988\tvalid_1's rmse: 278317\n",
      "[300]\ttraining's rmse: 232068\tvalid_1's rmse: 273483\n",
      "[400]\ttraining's rmse: 218740\tvalid_1's rmse: 270963\n",
      "[500]\ttraining's rmse: 207329\tvalid_1's rmse: 269650\n",
      "[600]\ttraining's rmse: 198799\tvalid_1's rmse: 269420\n",
      "[700]\ttraining's rmse: 190792\tvalid_1's rmse: 268978\n",
      "Early stopping, best iteration is:\n",
      "[667]\ttraining's rmse: 193104\tvalid_1's rmse: 268586\n",
      "300058.24893853266\n"
     ]
    }
   ],
   "source": [
    "imp,score=run_model(df_train,df_label)\n",
    "print(score)"
   ]
  },
  {
   "cell_type": "code",
   "execution_count": 144,
   "metadata": {
    "scrolled": true
   },
   "outputs": [
    {
     "name": "stdout",
     "output_type": "stream",
     "text": [
      "[Fold 1/5]\n",
      "Training until validation scores don't improve for 50 rounds.\n",
      "[100]\ttraining's rmse: 262690\tvalid_1's rmse: 365918\n",
      "[200]\ttraining's rmse: 231042\tvalid_1's rmse: 360730\n",
      "[300]\ttraining's rmse: 210424\tvalid_1's rmse: 358058\n",
      "Early stopping, best iteration is:\n",
      "[337]\ttraining's rmse: 204343\tvalid_1's rmse: 357014\n",
      "[Fold 2/5]\n",
      "Training until validation scores don't improve for 50 rounds.\n",
      "[100]\ttraining's rmse: 271661\tvalid_1's rmse: 330273\n",
      "[200]\ttraining's rmse: 240099\tvalid_1's rmse: 322404\n",
      "[300]\ttraining's rmse: 220261\tvalid_1's rmse: 319745\n",
      "[400]\ttraining's rmse: 205034\tvalid_1's rmse: 319453\n",
      "Early stopping, best iteration is:\n",
      "[363]\ttraining's rmse: 210627\tvalid_1's rmse: 319082\n",
      "[Fold 3/5]\n",
      "Training until validation scores don't improve for 50 rounds.\n",
      "[100]\ttraining's rmse: 277991\tvalid_1's rmse: 304364\n",
      "[200]\ttraining's rmse: 243125\tvalid_1's rmse: 295271\n",
      "[300]\ttraining's rmse: 222255\tvalid_1's rmse: 292180\n",
      "Early stopping, best iteration is:\n",
      "[272]\ttraining's rmse: 227058\tvalid_1's rmse: 291955\n",
      "[Fold 4/5]\n",
      "Training until validation scores don't improve for 50 rounds.\n",
      "[100]\ttraining's rmse: 276547\tvalid_1's rmse: 312997\n",
      "[200]\ttraining's rmse: 242511\tvalid_1's rmse: 302137\n",
      "[300]\ttraining's rmse: 222319\tvalid_1's rmse: 299149\n",
      "[400]\ttraining's rmse: 208028\tvalid_1's rmse: 298425\n",
      "Early stopping, best iteration is:\n",
      "[393]\ttraining's rmse: 208990\tvalid_1's rmse: 298282\n",
      "[Fold 5/5]\n",
      "Training until validation scores don't improve for 50 rounds.\n",
      "[100]\ttraining's rmse: 282656\tvalid_1's rmse: 292873\n",
      "[200]\ttraining's rmse: 248741\tvalid_1's rmse: 283821\n",
      "[300]\ttraining's rmse: 227766\tvalid_1's rmse: 280787\n",
      "[400]\ttraining's rmse: 211128\tvalid_1's rmse: 278820\n",
      "[500]\ttraining's rmse: 197810\tvalid_1's rmse: 278440\n",
      "Early stopping, best iteration is:\n",
      "[510]\ttraining's rmse: 196710\tvalid_1's rmse: 278299\n",
      "308926.11262788274\n"
     ]
    }
   ],
   "source": [
    "#欠損値補完(baysian ridge)\n",
    "imp = IterativeImputer(max_iter=50, random_state=5)\n",
    "df_train_f1=pd.DataFrame(imp.fit_transform(df_train))\n",
    "df_train_f1.columns=df_train.columns\n",
    "imp,score=run_model(df_train_f1,df_label)\n",
    "print(score)"
   ]
  },
  {
   "cell_type": "code",
   "execution_count": 145,
   "metadata": {
    "scrolled": true
   },
   "outputs": [
    {
     "name": "stdout",
     "output_type": "stream",
     "text": [
      "[Fold 1/5]\n",
      "Training until validation scores don't improve for 50 rounds.\n",
      "[100]\ttraining's rmse: 263039\tvalid_1's rmse: 369032\n",
      "[200]\ttraining's rmse: 228840\tvalid_1's rmse: 359115\n",
      "[300]\ttraining's rmse: 208692\tvalid_1's rmse: 356194\n",
      "[400]\ttraining's rmse: 193218\tvalid_1's rmse: 355391\n",
      "[500]\ttraining's rmse: 180858\tvalid_1's rmse: 354484\n",
      "[600]\ttraining's rmse: 170482\tvalid_1's rmse: 354039\n",
      "Early stopping, best iteration is:\n",
      "[591]\ttraining's rmse: 171497\tvalid_1's rmse: 353921\n",
      "[Fold 2/5]\n",
      "Training until validation scores don't improve for 50 rounds.\n",
      "[100]\ttraining's rmse: 273241\tvalid_1's rmse: 336999\n",
      "[200]\ttraining's rmse: 238961\tvalid_1's rmse: 325400\n",
      "[300]\ttraining's rmse: 217199\tvalid_1's rmse: 321088\n",
      "[400]\ttraining's rmse: 202296\tvalid_1's rmse: 320012\n",
      "[500]\ttraining's rmse: 189526\tvalid_1's rmse: 319824\n",
      "Early stopping, best iteration is:\n",
      "[485]\ttraining's rmse: 191223\tvalid_1's rmse: 319734\n",
      "[Fold 3/5]\n",
      "Training until validation scores don't improve for 50 rounds.\n",
      "[100]\ttraining's rmse: 277055\tvalid_1's rmse: 306234\n",
      "[200]\ttraining's rmse: 242972\tvalid_1's rmse: 296254\n",
      "[300]\ttraining's rmse: 221396\tvalid_1's rmse: 291001\n",
      "[400]\ttraining's rmse: 205960\tvalid_1's rmse: 289807\n",
      "[500]\ttraining's rmse: 192962\tvalid_1's rmse: 289041\n",
      "[600]\ttraining's rmse: 182298\tvalid_1's rmse: 288948\n",
      "Early stopping, best iteration is:\n",
      "[555]\ttraining's rmse: 186761\tvalid_1's rmse: 288740\n",
      "[Fold 4/5]\n",
      "Training until validation scores don't improve for 50 rounds.\n",
      "[100]\ttraining's rmse: 275369\tvalid_1's rmse: 319117\n",
      "[200]\ttraining's rmse: 238945\tvalid_1's rmse: 308860\n",
      "[300]\ttraining's rmse: 217989\tvalid_1's rmse: 305711\n",
      "Early stopping, best iteration is:\n",
      "[328]\ttraining's rmse: 213069\tvalid_1's rmse: 304442\n",
      "[Fold 5/5]\n",
      "Training until validation scores don't improve for 50 rounds.\n",
      "[100]\ttraining's rmse: 281525\tvalid_1's rmse: 292819\n",
      "[200]\ttraining's rmse: 244834\tvalid_1's rmse: 281796\n",
      "[300]\ttraining's rmse: 223619\tvalid_1's rmse: 278983\n",
      "[400]\ttraining's rmse: 207800\tvalid_1's rmse: 278072\n",
      "[500]\ttraining's rmse: 194688\tvalid_1's rmse: 277168\n",
      "[600]\ttraining's rmse: 183467\tvalid_1's rmse: 276146\n",
      "Early stopping, best iteration is:\n",
      "[623]\ttraining's rmse: 181081\tvalid_1's rmse: 275967\n",
      "308560.6963851209\n"
     ]
    }
   ],
   "source": [
    "#欠損値補完(ExtraTreesRegressor)\n",
    "from sklearn.ensemble import ExtraTreesRegressor\n",
    "imp = IterativeImputer(estimator=ExtraTreesRegressor(),max_iter=10, random_state=0)\n",
    "#imp = IterativeImputer(estimator=KNeighborsRegressor(n_neighbors=15),max_iter=10, random_state=0)\n",
    "df_train_f2=pd.DataFrame(imp.fit_transform(df_train))\n",
    "df_train_f2.columns=df_train.columns\n",
    "imp,score=run_model(df_train_f2,df_label)\n",
    "print(score)"
   ]
  },
  {
   "cell_type": "code",
   "execution_count": 146,
   "metadata": {},
   "outputs": [
    {
     "name": "stdout",
     "output_type": "stream",
     "text": [
      "[Fold 1/5]\n",
      "Training until validation scores don't improve for 50 rounds.\n",
      "[100]\ttraining's rmse: 263979\tvalid_1's rmse: 366423\n",
      "[200]\ttraining's rmse: 233338\tvalid_1's rmse: 359232\n",
      "[300]\ttraining's rmse: 213555\tvalid_1's rmse: 357730\n",
      "[400]\ttraining's rmse: 198665\tvalid_1's rmse: 356891\n",
      "Early stopping, best iteration is:\n",
      "[428]\ttraining's rmse: 195279\tvalid_1's rmse: 356451\n",
      "[Fold 2/5]\n",
      "Training until validation scores don't improve for 50 rounds.\n",
      "[100]\ttraining's rmse: 275127\tvalid_1's rmse: 333599\n",
      "[200]\ttraining's rmse: 244002\tvalid_1's rmse: 324737\n",
      "[300]\ttraining's rmse: 224356\tvalid_1's rmse: 322026\n",
      "[400]\ttraining's rmse: 209479\tvalid_1's rmse: 320888\n",
      "[500]\ttraining's rmse: 197568\tvalid_1's rmse: 320396\n",
      "[600]\ttraining's rmse: 186955\tvalid_1's rmse: 320142\n",
      "[700]\ttraining's rmse: 178698\tvalid_1's rmse: 319649\n",
      "Early stopping, best iteration is:\n",
      "[675]\ttraining's rmse: 180625\tvalid_1's rmse: 319341\n",
      "[Fold 3/5]\n",
      "Training until validation scores don't improve for 50 rounds.\n",
      "[100]\ttraining's rmse: 278783\tvalid_1's rmse: 303065\n",
      "[200]\ttraining's rmse: 246831\tvalid_1's rmse: 294456\n",
      "[300]\ttraining's rmse: 226606\tvalid_1's rmse: 291310\n",
      "[400]\ttraining's rmse: 211341\tvalid_1's rmse: 288774\n",
      "[500]\ttraining's rmse: 198818\tvalid_1's rmse: 287273\n",
      "[600]\ttraining's rmse: 188972\tvalid_1's rmse: 286794\n",
      "[700]\ttraining's rmse: 179681\tvalid_1's rmse: 286142\n",
      "[800]\ttraining's rmse: 172417\tvalid_1's rmse: 286202\n",
      "Early stopping, best iteration is:\n",
      "[754]\ttraining's rmse: 175806\tvalid_1's rmse: 285894\n",
      "[Fold 4/5]\n",
      "Training until validation scores don't improve for 50 rounds.\n",
      "[100]\ttraining's rmse: 278034\tvalid_1's rmse: 311802\n",
      "[200]\ttraining's rmse: 245449\tvalid_1's rmse: 301860\n",
      "[300]\ttraining's rmse: 225111\tvalid_1's rmse: 298915\n",
      "[400]\ttraining's rmse: 211154\tvalid_1's rmse: 297546\n",
      "Early stopping, best iteration is:\n",
      "[437]\ttraining's rmse: 206320\tvalid_1's rmse: 296845\n",
      "[Fold 5/5]\n",
      "Training until validation scores don't improve for 50 rounds.\n",
      "[100]\ttraining's rmse: 280918\tvalid_1's rmse: 294436\n",
      "[200]\ttraining's rmse: 249575\tvalid_1's rmse: 286115\n",
      "[300]\ttraining's rmse: 228948\tvalid_1's rmse: 283376\n",
      "[400]\ttraining's rmse: 214055\tvalid_1's rmse: 282579\n",
      "Early stopping, best iteration is:\n",
      "[374]\ttraining's rmse: 218003\tvalid_1's rmse: 282422\n",
      "308190.7678894138\n"
     ]
    }
   ],
   "source": [
    "#欠損値補完(KNeighborsRegressor)\n",
    "from sklearn.neighbors import KNeighborsRegressor\n",
    "imp = IterativeImputer(estimator=KNeighborsRegressor(n_neighbors=15),max_iter=10, random_state=0)\n",
    "df_train_f3=pd.DataFrame(imp.fit_transform(df_train))\n",
    "df_train_f3.columns=df_train.columns\n",
    "imp,score=run_model(df_train_f3,df_label)\n",
    "print(score)"
   ]
  },
  {
   "cell_type": "code",
   "execution_count": 148,
   "metadata": {
    "scrolled": true
   },
   "outputs": [
    {
     "name": "stdout",
     "output_type": "stream",
     "text": [
      "[Fold 1/5]\n",
      "Training until validation scores don't improve for 50 rounds.\n",
      "[100]\ttraining's rmse: 268683\tvalid_1's rmse: 372455\n",
      "[200]\ttraining's rmse: 235216\tvalid_1's rmse: 364434\n",
      "[300]\ttraining's rmse: 212294\tvalid_1's rmse: 362866\n",
      "[400]\ttraining's rmse: 195695\tvalid_1's rmse: 361702\n",
      "Early stopping, best iteration is:\n",
      "[401]\ttraining's rmse: 195614\tvalid_1's rmse: 361673\n",
      "[Fold 2/5]\n",
      "Training until validation scores don't improve for 50 rounds.\n",
      "[100]\ttraining's rmse: 280192\tvalid_1's rmse: 337948\n",
      "[200]\ttraining's rmse: 246761\tvalid_1's rmse: 329144\n",
      "[300]\ttraining's rmse: 225308\tvalid_1's rmse: 327315\n",
      "[400]\ttraining's rmse: 209132\tvalid_1's rmse: 325621\n",
      "[500]\ttraining's rmse: 195514\tvalid_1's rmse: 324928\n",
      "Early stopping, best iteration is:\n",
      "[505]\ttraining's rmse: 195014\tvalid_1's rmse: 324924\n",
      "[Fold 3/5]\n",
      "Training until validation scores don't improve for 50 rounds.\n",
      "[100]\ttraining's rmse: 283447\tvalid_1's rmse: 306800\n",
      "[200]\ttraining's rmse: 249608\tvalid_1's rmse: 298163\n",
      "[300]\ttraining's rmse: 227270\tvalid_1's rmse: 295965\n",
      "[400]\ttraining's rmse: 210970\tvalid_1's rmse: 294606\n",
      "[500]\ttraining's rmse: 196019\tvalid_1's rmse: 293474\n",
      "Early stopping, best iteration is:\n",
      "[541]\ttraining's rmse: 190993\tvalid_1's rmse: 293041\n",
      "[Fold 4/5]\n",
      "Training until validation scores don't improve for 50 rounds.\n",
      "[100]\ttraining's rmse: 282676\tvalid_1's rmse: 317355\n",
      "[200]\ttraining's rmse: 250285\tvalid_1's rmse: 308384\n",
      "[300]\ttraining's rmse: 228717\tvalid_1's rmse: 302873\n",
      "[400]\ttraining's rmse: 211417\tvalid_1's rmse: 301012\n",
      "[500]\ttraining's rmse: 197104\tvalid_1's rmse: 300069\n",
      "[600]\ttraining's rmse: 184819\tvalid_1's rmse: 299516\n",
      "[700]\ttraining's rmse: 174359\tvalid_1's rmse: 299271\n",
      "Early stopping, best iteration is:\n",
      "[671]\ttraining's rmse: 177445\tvalid_1's rmse: 299078\n",
      "[Fold 5/5]\n",
      "Training until validation scores don't improve for 50 rounds.\n",
      "[100]\ttraining's rmse: 287165\tvalid_1's rmse: 295951\n",
      "[200]\ttraining's rmse: 252486\tvalid_1's rmse: 288296\n",
      "[300]\ttraining's rmse: 230091\tvalid_1's rmse: 286737\n",
      "[400]\ttraining's rmse: 213376\tvalid_1's rmse: 285429\n",
      "Early stopping, best iteration is:\n",
      "[418]\ttraining's rmse: 210411\tvalid_1's rmse: 285251\n",
      "312793.3560097838\n"
     ]
    }
   ],
   "source": [
    "#fancyimpute(MF)\n",
    "from fancyimpute import KNN, NuclearNormMinimization, SoftImpute, BiScaler,MatrixFactorization\n",
    "df_train_f4 = pd.DataFrame(MatrixFactorization(verbose=False).fit_transform(df_train))\n",
    "df_train_f4.columns=df_train.columns\n",
    "imp,score=run_model(df_train_f4,df_label)\n",
    "print(score)"
   ]
  },
  {
   "cell_type": "code",
   "execution_count": 13,
   "metadata": {},
   "outputs": [
    {
     "name": "stdout",
     "output_type": "stream",
     "text": [
      "[Fold 1/5]\n",
      "Training until validation scores don't improve for 50 rounds.\n",
      "[100]\ttraining's rmse: 320990\tvalid_1's rmse: 434285\n",
      "[200]\ttraining's rmse: 288714\tvalid_1's rmse: 430946\n",
      "Early stopping, best iteration is:\n",
      "[229]\ttraining's rmse: 280741\tvalid_1's rmse: 429541\n",
      "[Fold 2/5]\n",
      "Training until validation scores don't improve for 50 rounds.\n",
      "[100]\ttraining's rmse: 330353\tvalid_1's rmse: 396107\n",
      "[200]\ttraining's rmse: 298296\tvalid_1's rmse: 391989\n",
      "[300]\ttraining's rmse: 273526\tvalid_1's rmse: 389982\n",
      "Early stopping, best iteration is:\n",
      "[282]\ttraining's rmse: 277954\tvalid_1's rmse: 389522\n",
      "[Fold 3/5]\n",
      "Training until validation scores don't improve for 50 rounds.\n",
      "[100]\ttraining's rmse: 334701\tvalid_1's rmse: 378164\n",
      "[200]\ttraining's rmse: 303039\tvalid_1's rmse: 374696\n",
      "[300]\ttraining's rmse: 278711\tvalid_1's rmse: 374393\n",
      "Early stopping, best iteration is:\n",
      "[279]\ttraining's rmse: 283504\tvalid_1's rmse: 374185\n",
      "[Fold 4/5]\n",
      "Training until validation scores don't improve for 50 rounds.\n",
      "[100]\ttraining's rmse: 331001\tvalid_1's rmse: 391136\n",
      "[200]\ttraining's rmse: 299360\tvalid_1's rmse: 386594\n",
      "[300]\ttraining's rmse: 276129\tvalid_1's rmse: 384622\n",
      "Early stopping, best iteration is:\n",
      "[314]\ttraining's rmse: 273367\tvalid_1's rmse: 384440\n",
      "[Fold 5/5]\n",
      "Training until validation scores don't improve for 50 rounds.\n",
      "[100]\ttraining's rmse: 338673\tvalid_1's rmse: 365938\n",
      "[200]\ttraining's rmse: 305990\tvalid_1's rmse: 360267\n",
      "[300]\ttraining's rmse: 281000\tvalid_1's rmse: 358508\n",
      "[400]\ttraining's rmse: 260135\tvalid_1's rmse: 357643\n",
      "[500]\ttraining's rmse: 243463\tvalid_1's rmse: 357797\n",
      "Early stopping, best iteration is:\n",
      "[454]\ttraining's rmse: 250560\tvalid_1's rmse: 357092\n",
      "386955.8131937848\n"
     ]
    }
   ],
   "source": [
    "#fancyimpute(BiScaler)\n",
    "from fancyimpute import KNN, NuclearNormMinimization, SoftImpute, BiScaler,MatrixFactorization\n",
    "df_train_f5 = pd.DataFrame(BiScaler(verbose=False).fit_transform(np.array(df_train)))\n",
    "df_train_f5.columns=df_train.columns\n",
    "imp,score=run_model(df_train_f5,df_label)\n",
    "print(score)"
   ]
  },
  {
   "cell_type": "code",
   "execution_count": 14,
   "metadata": {},
   "outputs": [
    {
     "name": "stdout",
     "output_type": "stream",
     "text": [
      "[Fold 1/5]\n",
      "Training until validation scores don't improve for 50 rounds.\n",
      "[100]\ttraining's rmse: 266793\tvalid_1's rmse: 363229\n",
      "[200]\ttraining's rmse: 237589\tvalid_1's rmse: 354736\n",
      "[300]\ttraining's rmse: 219186\tvalid_1's rmse: 351821\n",
      "[400]\ttraining's rmse: 205788\tvalid_1's rmse: 351039\n",
      "[500]\ttraining's rmse: 194860\tvalid_1's rmse: 350464\n",
      "Early stopping, best iteration is:\n",
      "[518]\ttraining's rmse: 192966\tvalid_1's rmse: 350300\n",
      "[Fold 2/5]\n",
      "Training until validation scores don't improve for 50 rounds.\n",
      "[100]\ttraining's rmse: 275779\tvalid_1's rmse: 328882\n",
      "[200]\ttraining's rmse: 245698\tvalid_1's rmse: 319593\n",
      "[300]\ttraining's rmse: 226554\tvalid_1's rmse: 315814\n",
      "[400]\ttraining's rmse: 213474\tvalid_1's rmse: 314462\n",
      "Early stopping, best iteration is:\n",
      "[428]\ttraining's rmse: 210404\tvalid_1's rmse: 313974\n",
      "[Fold 3/5]\n",
      "Training until validation scores don't improve for 50 rounds.\n",
      "[100]\ttraining's rmse: 280563\tvalid_1's rmse: 303490\n",
      "[200]\ttraining's rmse: 249417\tvalid_1's rmse: 294938\n",
      "[300]\ttraining's rmse: 229291\tvalid_1's rmse: 291935\n",
      "[400]\ttraining's rmse: 215144\tvalid_1's rmse: 290782\n",
      "[500]\ttraining's rmse: 204239\tvalid_1's rmse: 289941\n",
      "[600]\ttraining's rmse: 195362\tvalid_1's rmse: 289330\n",
      "Early stopping, best iteration is:\n",
      "[579]\ttraining's rmse: 197133\tvalid_1's rmse: 289066\n",
      "[Fold 4/5]\n",
      "Training until validation scores don't improve for 50 rounds.\n",
      "[100]\ttraining's rmse: 279646\tvalid_1's rmse: 311750\n",
      "[200]\ttraining's rmse: 247750\tvalid_1's rmse: 301069\n",
      "[300]\ttraining's rmse: 228521\tvalid_1's rmse: 297777\n",
      "[400]\ttraining's rmse: 214144\tvalid_1's rmse: 296645\n",
      "Early stopping, best iteration is:\n",
      "[368]\ttraining's rmse: 218506\tvalid_1's rmse: 296017\n",
      "[Fold 5/5]\n",
      "Training until validation scores don't improve for 50 rounds.\n",
      "[100]\ttraining's rmse: 283494\tvalid_1's rmse: 292884\n",
      "[200]\ttraining's rmse: 251786\tvalid_1's rmse: 282897\n",
      "[300]\ttraining's rmse: 232312\tvalid_1's rmse: 280436\n",
      "[400]\ttraining's rmse: 218070\tvalid_1's rmse: 279111\n",
      "[500]\ttraining's rmse: 207166\tvalid_1's rmse: 278582\n",
      "Early stopping, best iteration is:\n",
      "[516]\ttraining's rmse: 205367\tvalid_1's rmse: 278315\n",
      "305534.2953074077\n"
     ]
    }
   ],
   "source": [
    "#fancyimpute(SoftImpute)\n",
    "from fancyimpute import KNN, NuclearNormMinimization, SoftImpute, BiScaler,MatrixFactorization\n",
    "df_train_f6 = pd.DataFrame(SoftImpute(verbose=False).fit_transform(df_train))\n",
    "df_train_f6.columns=df_train.columns\n",
    "imp,score=run_model(df_train_f6,df_label)\n",
    "print(score)"
   ]
  },
  {
   "cell_type": "code",
   "execution_count": null,
   "metadata": {},
   "outputs": [],
   "source": []
  }
 ],
 "metadata": {
  "kernelspec": {
   "display_name": "Python 3",
   "language": "python",
   "name": "python3"
  },
  "language_info": {
   "codemirror_mode": {
    "name": "ipython",
    "version": 3
   },
   "file_extension": ".py",
   "mimetype": "text/x-python",
   "name": "python",
   "nbconvert_exporter": "python",
   "pygments_lexer": "ipython3",
   "version": "3.6.7"
  }
 },
 "nbformat": 4,
 "nbformat_minor": 2
}
